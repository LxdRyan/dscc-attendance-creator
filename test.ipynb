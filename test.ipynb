{
 "cells": [
  {
   "cell_type": "code",
   "execution_count": 22,
   "metadata": {},
   "outputs": [],
   "source": [
    "import time"
   ]
  },
  {
   "cell_type": "code",
   "execution_count": 25,
   "metadata": {},
   "outputs": [
    {
     "name": "stdout",
     "output_type": "stream",
     "text": [
      "Date must be in DDMMYY format time data 'jsdlfhjl;' does not match format '%d%m%y'\n",
      "Date must be in DDMMYY format time data 'dslfgjdfg' does not match format '%d%m%y'\n",
      "Date must be in DDMMYY format time data 'dlkfgjdfg' does not match format '%d%m%y'\n",
      "Date must be in DDMMYY format time data 'lkdfgjdflg' does not match format '%d%m%y'\n",
      "100302\n"
     ]
    }
   ],
   "source": [
    "def get_date():\n",
    "        date = input(\"Date (DDMMYY): \")\n",
    "        try:\n",
    "            time.strptime(date, \"%d%m%y\")\n",
    "        except ValueError as e:\n",
    "            print(\"Date must be in DDMMYY format\", e)\n",
    "            return get_date()\n",
    "        else:\n",
    "            return date\n",
    "\n",
    "\n",
    "date = get_date()\n",
    "print(date)"
   ]
  }
 ],
 "metadata": {
  "kernelspec": {
   "display_name": ".venv",
   "language": "python",
   "name": "python3"
  },
  "language_info": {
   "codemirror_mode": {
    "name": "ipython",
    "version": 3
   },
   "file_extension": ".py",
   "mimetype": "text/x-python",
   "name": "python",
   "nbconvert_exporter": "python",
   "pygments_lexer": "ipython3",
   "version": "3.12.5"
  }
 },
 "nbformat": 4,
 "nbformat_minor": 2
}
